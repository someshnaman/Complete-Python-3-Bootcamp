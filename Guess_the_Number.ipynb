{
  "nbformat": 4,
  "nbformat_minor": 0,
  "metadata": {
    "colab": {
      "name": "Guess the Number.ipynb",
      "provenance": [],
      "collapsed_sections": [],
      "authorship_tag": "ABX9TyNm76GV3kEB1rNvMBo9xgW/",
      "include_colab_link": true
    },
    "kernelspec": {
      "name": "python3",
      "display_name": "Python 3"
    }
  },
  "cells": [
    {
      "cell_type": "markdown",
      "metadata": {
        "id": "view-in-github",
        "colab_type": "text"
      },
      "source": [
        "<a href=\"https://colab.research.google.com/github/someshnaman/Complete-Python-3-Bootcamp/blob/master/Guess_the_Number.ipynb\" target=\"_parent\"><img src=\"https://colab.research.google.com/assets/colab-badge.svg\" alt=\"Open In Colab\"/></a>"
      ]
    },
    {
      "cell_type": "code",
      "metadata": {
        "id": "ImXTgp5RLZoI",
        "colab": {
          "base_uri": "https://localhost:8080/"
        },
        "outputId": "51c2286e-8b9f-48c3-bd47-1b6591c80472"
      },
      "source": [
        "N=20\r\n",
        "i=0\r\n",
        "while(i<5):\r\n",
        "  #The Number ranges between 10-20\r\n",
        "  num1=int(input(\"Enter your Guess here:\"))\r\n",
        "  if num1<N:\r\n",
        "    print(\"you have Guessed less than the Given number try again\")\r\n",
        "    i=i+1\r\n",
        "    print(f\"You have {5-i} attent left\")\r\n",
        "    continue\r\n",
        "  elif num1>N:\r\n",
        "    print(\"you have Guessed Greator than the Given number try again\")\r\n",
        "    i=i+1\r\n",
        "    print(f\"You have {5-i} attent left\")\r\n",
        "  else:\r\n",
        "    print(\"you Guessed right \\n Thank you \")\r\n",
        "    break\r\n",
        "if i>=5:\r\n",
        "  print(\"Game Over\")\r\n"
      ],
      "execution_count": 7,
      "outputs": [
        {
          "output_type": "stream",
          "text": [
            "Enter your Guess here:88\n",
            "you have Guessed Greator than the Given number try again\n",
            "You have 4 attent left\n",
            "Enter your Guess here:88\n",
            "you have Guessed Greator than the Given number try again\n",
            "You have 3 attent left\n",
            "Enter your Guess here:88\n",
            "you have Guessed Greator than the Given number try again\n",
            "You have 2 attent left\n",
            "Enter your Guess here:88\n",
            "you have Guessed Greator than the Given number try again\n",
            "You have 1 attent left\n",
            "Enter your Guess here:88\n",
            "you have Guessed Greator than the Given number try again\n",
            "You have 0 attent left\n",
            "Game Over\n"
          ],
          "name": "stdout"
        }
      ]
    },
    {
      "cell_type": "code",
      "metadata": {
        "id": "NGR5Ip2LamNT"
      },
      "source": [
        "21\r\n",
        "2"
      ],
      "execution_count": null,
      "outputs": []
    }
  ]
}